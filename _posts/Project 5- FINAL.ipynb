{
 "cells": [
  {
   "cell_type": "markdown",
   "metadata": {},
   "source": [
    "\n",
    "# ![](https://ga-dash.s3.amazonaws.com/production/assets/logo-9f88ae6c9c3871690e33280fcf557f33.png) Project 5: Loan Classification\n",
    "#### Due Wednesday, December 21, 9 am\n",
    "\n",
    "### Overview\n",
    "\n",
    "You are going to create a model to predict loan status (good / bad) using data from Lending Club.  Download the 2015 data from [here](https://www.lendingclub.com/info/download-data.action).  \n",
    "\n",
    "#### Data Manipulation\n",
    "\n",
    "The data require some cleaning before you can build the model.  Think about what you are trying to predict, and how to re-engineer categories in order to do this.  What are the categories for loan status in the data?<br>\n",
    "*hint*:  only use loans that have been determined (i.e. not current loans).<br>\n",
    "*hint*:  re-categorize the loans into \"good\" and \"bad\" (only two categories)\n",
    "\n",
    "Let's use annual income, debt-to-income, interest rate, loan term, funded amount and home ownership to model the loan status.  If you don't know what these features are, have a look at the data dictionary on the Lending Club [page](https://www.lendingclub.com/info/download-data.action).\n",
    "\n",
    "#### EDA\n",
    "Before doing any kind of modelling, explore the data.  For example, what is the distribution of good / bad loans?  Are interest rate and DTI related?  Make some pivot tables / plots to better understand the data you have.\n",
    "\n",
    "#### Model\n",
    "Create your classification model using the above features!<br>\n",
    "*hint*: your data must be numerical in order to create your model.  Are all of the data numerical?  What can you do to make them numerical?  (Look-up dummy variables)\n",
    "\n",
    "Once you have your model, make a prediction based on the first row of data.  What is the probability of loan repayment for this person?  If your boss asked you whether the person is going to repay, what would you say?\n",
    "\n",
    "\n",
    "binomial distribution bc \n",
    "\n",
    "prob is parameter - pdf\n",
    "\n",
    "\n",
    "**Deliverables**: a Jupyter  notebook including EDA (plotting) and your model.  Or you can work in pycharm, but you must submit EDA as well.  Also you should submit a blog post describing your project.\n"
   ]
  },
  {
   "cell_type": "code",
   "execution_count": 2,
   "metadata": {
    "collapsed": false
   },
   "outputs": [
    {
     "name": "stderr",
     "output_type": "stream",
     "text": [
      "/Users/ellenkim/anaconda/lib/python2.7/site-packages/IPython/core/interactiveshell.py:2717: DtypeWarning: Columns (0,19,55) have mixed types. Specify dtype option on import or set low_memory=False.\n",
      "  interactivity=interactivity, compiler=compiler, result=result)\n"
     ]
    },
    {
     "data": {
      "text/html": [
       "<div>\n",
       "<table border=\"1\" class=\"dataframe\">\n",
       "  <thead>\n",
       "    <tr style=\"text-align: right;\">\n",
       "      <th></th>\n",
       "      <th>id</th>\n",
       "      <th>member_id</th>\n",
       "      <th>loan_amnt</th>\n",
       "      <th>funded_amnt</th>\n",
       "      <th>funded_amnt_inv</th>\n",
       "      <th>term</th>\n",
       "      <th>int_rate</th>\n",
       "      <th>installment</th>\n",
       "      <th>grade</th>\n",
       "      <th>sub_grade</th>\n",
       "      <th>...</th>\n",
       "      <th>num_tl_90g_dpd_24m</th>\n",
       "      <th>num_tl_op_past_12m</th>\n",
       "      <th>pct_tl_nvr_dlq</th>\n",
       "      <th>percent_bc_gt_75</th>\n",
       "      <th>pub_rec_bankruptcies</th>\n",
       "      <th>tax_liens</th>\n",
       "      <th>tot_hi_cred_lim</th>\n",
       "      <th>total_bal_ex_mort</th>\n",
       "      <th>total_bc_limit</th>\n",
       "      <th>total_il_high_credit_limit</th>\n",
       "    </tr>\n",
       "  </thead>\n",
       "  <tbody>\n",
       "    <tr>\n",
       "      <th>0</th>\n",
       "      <td>66310712</td>\n",
       "      <td>71035433.0</td>\n",
       "      <td>35000.0</td>\n",
       "      <td>35000.0</td>\n",
       "      <td>35000.0</td>\n",
       "      <td>60 months</td>\n",
       "      <td>14.85%</td>\n",
       "      <td>829.90</td>\n",
       "      <td>C</td>\n",
       "      <td>C5</td>\n",
       "      <td>...</td>\n",
       "      <td>0.0</td>\n",
       "      <td>1.0</td>\n",
       "      <td>100.0</td>\n",
       "      <td>0.0</td>\n",
       "      <td>0.0</td>\n",
       "      <td>0.0</td>\n",
       "      <td>381215.0</td>\n",
       "      <td>52226.0</td>\n",
       "      <td>62500.0</td>\n",
       "      <td>18000.0</td>\n",
       "    </tr>\n",
       "    <tr>\n",
       "      <th>1</th>\n",
       "      <td>68476807</td>\n",
       "      <td>73366655.0</td>\n",
       "      <td>10400.0</td>\n",
       "      <td>10400.0</td>\n",
       "      <td>10400.0</td>\n",
       "      <td>60 months</td>\n",
       "      <td>22.45%</td>\n",
       "      <td>289.91</td>\n",
       "      <td>F</td>\n",
       "      <td>F1</td>\n",
       "      <td>...</td>\n",
       "      <td>0.0</td>\n",
       "      <td>4.0</td>\n",
       "      <td>96.6</td>\n",
       "      <td>60.0</td>\n",
       "      <td>0.0</td>\n",
       "      <td>0.0</td>\n",
       "      <td>439570.0</td>\n",
       "      <td>95768.0</td>\n",
       "      <td>20300.0</td>\n",
       "      <td>88097.0</td>\n",
       "    </tr>\n",
       "    <tr>\n",
       "      <th>2</th>\n",
       "      <td>68341763</td>\n",
       "      <td>72928789.0</td>\n",
       "      <td>20000.0</td>\n",
       "      <td>20000.0</td>\n",
       "      <td>20000.0</td>\n",
       "      <td>60 months</td>\n",
       "      <td>10.78%</td>\n",
       "      <td>432.66</td>\n",
       "      <td>B</td>\n",
       "      <td>B4</td>\n",
       "      <td>...</td>\n",
       "      <td>0.0</td>\n",
       "      <td>0.0</td>\n",
       "      <td>100.0</td>\n",
       "      <td>50.0</td>\n",
       "      <td>0.0</td>\n",
       "      <td>0.0</td>\n",
       "      <td>218418.0</td>\n",
       "      <td>18696.0</td>\n",
       "      <td>6200.0</td>\n",
       "      <td>14877.0</td>\n",
       "    </tr>\n",
       "    <tr>\n",
       "      <th>3</th>\n",
       "      <td>68466916</td>\n",
       "      <td>73356753.0</td>\n",
       "      <td>25000.0</td>\n",
       "      <td>25000.0</td>\n",
       "      <td>25000.0</td>\n",
       "      <td>36 months</td>\n",
       "      <td>7.49%</td>\n",
       "      <td>777.55</td>\n",
       "      <td>A</td>\n",
       "      <td>A4</td>\n",
       "      <td>...</td>\n",
       "      <td>0.0</td>\n",
       "      <td>0.0</td>\n",
       "      <td>100.0</td>\n",
       "      <td>20.0</td>\n",
       "      <td>0.0</td>\n",
       "      <td>0.0</td>\n",
       "      <td>373572.0</td>\n",
       "      <td>68056.0</td>\n",
       "      <td>38400.0</td>\n",
       "      <td>82117.0</td>\n",
       "    </tr>\n",
       "    <tr>\n",
       "      <th>4</th>\n",
       "      <td>68466961</td>\n",
       "      <td>73356799.0</td>\n",
       "      <td>28000.0</td>\n",
       "      <td>28000.0</td>\n",
       "      <td>28000.0</td>\n",
       "      <td>36 months</td>\n",
       "      <td>6.49%</td>\n",
       "      <td>858.05</td>\n",
       "      <td>A</td>\n",
       "      <td>A2</td>\n",
       "      <td>...</td>\n",
       "      <td>0.0</td>\n",
       "      <td>0.0</td>\n",
       "      <td>91.7</td>\n",
       "      <td>22.2</td>\n",
       "      <td>0.0</td>\n",
       "      <td>0.0</td>\n",
       "      <td>304003.0</td>\n",
       "      <td>74920.0</td>\n",
       "      <td>41500.0</td>\n",
       "      <td>42503.0</td>\n",
       "    </tr>\n",
       "  </tbody>\n",
       "</table>\n",
       "<p>5 rows × 111 columns</p>\n",
       "</div>"
      ],
      "text/plain": [
       "         id   member_id  loan_amnt  funded_amnt  funded_amnt_inv        term  \\\n",
       "0  66310712  71035433.0    35000.0      35000.0          35000.0   60 months   \n",
       "1  68476807  73366655.0    10400.0      10400.0          10400.0   60 months   \n",
       "2  68341763  72928789.0    20000.0      20000.0          20000.0   60 months   \n",
       "3  68466916  73356753.0    25000.0      25000.0          25000.0   36 months   \n",
       "4  68466961  73356799.0    28000.0      28000.0          28000.0   36 months   \n",
       "\n",
       "  int_rate  installment grade sub_grade            ...              \\\n",
       "0   14.85%       829.90     C        C5            ...               \n",
       "1   22.45%       289.91     F        F1            ...               \n",
       "2   10.78%       432.66     B        B4            ...               \n",
       "3    7.49%       777.55     A        A4            ...               \n",
       "4    6.49%       858.05     A        A2            ...               \n",
       "\n",
       "  num_tl_90g_dpd_24m num_tl_op_past_12m pct_tl_nvr_dlq  percent_bc_gt_75  \\\n",
       "0                0.0                1.0          100.0               0.0   \n",
       "1                0.0                4.0           96.6              60.0   \n",
       "2                0.0                0.0          100.0              50.0   \n",
       "3                0.0                0.0          100.0              20.0   \n",
       "4                0.0                0.0           91.7              22.2   \n",
       "\n",
       "  pub_rec_bankruptcies tax_liens tot_hi_cred_lim total_bal_ex_mort  \\\n",
       "0                  0.0       0.0        381215.0           52226.0   \n",
       "1                  0.0       0.0        439570.0           95768.0   \n",
       "2                  0.0       0.0        218418.0           18696.0   \n",
       "3                  0.0       0.0        373572.0           68056.0   \n",
       "4                  0.0       0.0        304003.0           74920.0   \n",
       "\n",
       "  total_bc_limit total_il_high_credit_limit  \n",
       "0        62500.0                    18000.0  \n",
       "1        20300.0                    88097.0  \n",
       "2         6200.0                    14877.0  \n",
       "3        38400.0                    82117.0  \n",
       "4        41500.0                    42503.0  \n",
       "\n",
       "[5 rows x 111 columns]"
      ]
     },
     "execution_count": 2,
     "metadata": {},
     "output_type": "execute_result"
    }
   ],
   "source": [
    "import pandas as pd\n",
    "import numpy as np\n",
    "from scipy.optimize import minimize\n",
    "import matplotlib.pyplot as plt\n",
    "%matplotlib inline\n",
    "\n",
    "df = pd.read_csv('./loan.csv')\n",
    "df.head()\n"
   ]
  },
  {
   "cell_type": "code",
   "execution_count": 3,
   "metadata": {
    "collapsed": false,
    "scrolled": true
   },
   "outputs": [
    {
     "data": {
      "text/html": [
       "<div>\n",
       "<table border=\"1\" class=\"dataframe\">\n",
       "  <thead>\n",
       "    <tr style=\"text-align: right;\">\n",
       "      <th></th>\n",
       "      <th>annual_inc</th>\n",
       "      <th>dti</th>\n",
       "      <th>int_rate</th>\n",
       "      <th>term</th>\n",
       "      <th>funded_amnt</th>\n",
       "      <th>home_ownership</th>\n",
       "      <th>loan_status</th>\n",
       "    </tr>\n",
       "  </thead>\n",
       "  <tbody>\n",
       "    <tr>\n",
       "      <th>1</th>\n",
       "      <td>104433.0</td>\n",
       "      <td>25.37</td>\n",
       "      <td>22.45%</td>\n",
       "      <td>60 months</td>\n",
       "      <td>10400.0</td>\n",
       "      <td>MORTGAGE</td>\n",
       "      <td>Fully Paid</td>\n",
       "    </tr>\n",
       "    <tr>\n",
       "      <th>3</th>\n",
       "      <td>109000.0</td>\n",
       "      <td>26.02</td>\n",
       "      <td>7.49%</td>\n",
       "      <td>36 months</td>\n",
       "      <td>25000.0</td>\n",
       "      <td>MORTGAGE</td>\n",
       "      <td>Fully Paid</td>\n",
       "    </tr>\n",
       "    <tr>\n",
       "      <th>5</th>\n",
       "      <td>112000.0</td>\n",
       "      <td>8.68</td>\n",
       "      <td>11.99%</td>\n",
       "      <td>60 months</td>\n",
       "      <td>18000.0</td>\n",
       "      <td>MORTGAGE</td>\n",
       "      <td>Fully Paid</td>\n",
       "    </tr>\n",
       "    <tr>\n",
       "      <th>8</th>\n",
       "      <td>55000.0</td>\n",
       "      <td>25.49</td>\n",
       "      <td>19.89%</td>\n",
       "      <td>36 months</td>\n",
       "      <td>8650.0</td>\n",
       "      <td>RENT</td>\n",
       "      <td>Fully Paid</td>\n",
       "    </tr>\n",
       "    <tr>\n",
       "      <th>18</th>\n",
       "      <td>180000.0</td>\n",
       "      <td>14.67</td>\n",
       "      <td>9.17%</td>\n",
       "      <td>36 months</td>\n",
       "      <td>20000.0</td>\n",
       "      <td>MORTGAGE</td>\n",
       "      <td>Fully Paid</td>\n",
       "    </tr>\n",
       "  </tbody>\n",
       "</table>\n",
       "</div>"
      ],
      "text/plain": [
       "    annual_inc    dti int_rate        term  funded_amnt home_ownership  \\\n",
       "1     104433.0  25.37   22.45%   60 months      10400.0       MORTGAGE   \n",
       "3     109000.0  26.02    7.49%   36 months      25000.0       MORTGAGE   \n",
       "5     112000.0   8.68   11.99%   60 months      18000.0       MORTGAGE   \n",
       "8      55000.0  25.49   19.89%   36 months       8650.0           RENT   \n",
       "18    180000.0  14.67    9.17%   36 months      20000.0       MORTGAGE   \n",
       "\n",
       "   loan_status  \n",
       "1   Fully Paid  \n",
       "3   Fully Paid  \n",
       "5   Fully Paid  \n",
       "8   Fully Paid  \n",
       "18  Fully Paid  "
      ]
     },
     "execution_count": 3,
     "metadata": {},
     "output_type": "execute_result"
    }
   ],
   "source": [
    "# SELECTING COLUMNS\n",
    "\n",
    "#Let's use annual income, debt-to-income, interest rate, loan term, funded amount and home ownership \n",
    "\n",
    "column_set = [\"annual_inc\", \"dti\", \"int_rate\", \"term\", \"funded_amnt\", \"home_ownership\",\"loan_status\"]\n",
    "working_set1 = df.loc[:, column_set]\n",
    "\n",
    "#I only want loan status that is not 'current'\n",
    "status_list = ['Fully Paid', 'Default','Charged Off']\n",
    "\n",
    "# TOOK OUT : current, 'Late (31-120 days)', 'In Grace Period', 'Late (16-30 days)'\n",
    "working_set2 = working_set1[working_set1[\"loan_status\"].isin(status_list)]\n",
    "\n",
    "working_set2.head()"
   ]
  },
  {
   "cell_type": "code",
   "execution_count": 4,
   "metadata": {
    "collapsed": false
   },
   "outputs": [
    {
     "name": "stderr",
     "output_type": "stream",
     "text": [
      "/Users/ellenkim/anaconda/lib/python2.7/site-packages/pandas/core/indexing.py:465: SettingWithCopyWarning: \n",
      "A value is trying to be set on a copy of a slice from a DataFrame.\n",
      "Try using .loc[row_indexer,col_indexer] = value instead\n",
      "\n",
      "See the caveats in the documentation: http://pandas.pydata.org/pandas-docs/stable/indexing.html#indexing-view-versus-copy\n",
      "  self.obj[item] = s\n",
      "/Users/ellenkim/anaconda/lib/python2.7/site-packages/pandas/core/indexing.py:288: SettingWithCopyWarning: \n",
      "A value is trying to be set on a copy of a slice from a DataFrame.\n",
      "Try using .loc[row_indexer,col_indexer] = value instead\n",
      "\n",
      "See the caveats in the documentation: http://pandas.pydata.org/pandas-docs/stable/indexing.html#indexing-view-versus-copy\n",
      "  self.obj[key] = _infer_fill_value(value)\n"
     ]
    },
    {
     "data": {
      "text/html": [
       "<div>\n",
       "<table border=\"1\" class=\"dataframe\">\n",
       "  <thead>\n",
       "    <tr style=\"text-align: right;\">\n",
       "      <th></th>\n",
       "      <th>annual_inc</th>\n",
       "      <th>dti</th>\n",
       "      <th>int_rate</th>\n",
       "      <th>term</th>\n",
       "      <th>funded_amnt</th>\n",
       "      <th>home_ownership</th>\n",
       "      <th>loan_status</th>\n",
       "      <th>Mortgage</th>\n",
       "      <th>Rent</th>\n",
       "      <th>Own</th>\n",
       "      <th>Any</th>\n",
       "    </tr>\n",
       "  </thead>\n",
       "  <tbody>\n",
       "    <tr>\n",
       "      <th>1</th>\n",
       "      <td>104433.0</td>\n",
       "      <td>25.37</td>\n",
       "      <td>22.45</td>\n",
       "      <td>1.0</td>\n",
       "      <td>10400.0</td>\n",
       "      <td>MORTGAGE</td>\n",
       "      <td>1.0</td>\n",
       "      <td>1.0</td>\n",
       "      <td>0.0</td>\n",
       "      <td>0.0</td>\n",
       "      <td>0.0</td>\n",
       "    </tr>\n",
       "    <tr>\n",
       "      <th>3</th>\n",
       "      <td>109000.0</td>\n",
       "      <td>26.02</td>\n",
       "      <td>7.49</td>\n",
       "      <td>0.0</td>\n",
       "      <td>25000.0</td>\n",
       "      <td>MORTGAGE</td>\n",
       "      <td>1.0</td>\n",
       "      <td>1.0</td>\n",
       "      <td>0.0</td>\n",
       "      <td>0.0</td>\n",
       "      <td>0.0</td>\n",
       "    </tr>\n",
       "    <tr>\n",
       "      <th>5</th>\n",
       "      <td>112000.0</td>\n",
       "      <td>8.68</td>\n",
       "      <td>11.99</td>\n",
       "      <td>1.0</td>\n",
       "      <td>18000.0</td>\n",
       "      <td>MORTGAGE</td>\n",
       "      <td>1.0</td>\n",
       "      <td>1.0</td>\n",
       "      <td>0.0</td>\n",
       "      <td>0.0</td>\n",
       "      <td>0.0</td>\n",
       "    </tr>\n",
       "    <tr>\n",
       "      <th>8</th>\n",
       "      <td>55000.0</td>\n",
       "      <td>25.49</td>\n",
       "      <td>19.89</td>\n",
       "      <td>0.0</td>\n",
       "      <td>8650.0</td>\n",
       "      <td>RENT</td>\n",
       "      <td>1.0</td>\n",
       "      <td>0.0</td>\n",
       "      <td>1.0</td>\n",
       "      <td>0.0</td>\n",
       "      <td>0.0</td>\n",
       "    </tr>\n",
       "    <tr>\n",
       "      <th>18</th>\n",
       "      <td>180000.0</td>\n",
       "      <td>14.67</td>\n",
       "      <td>9.17</td>\n",
       "      <td>0.0</td>\n",
       "      <td>20000.0</td>\n",
       "      <td>MORTGAGE</td>\n",
       "      <td>1.0</td>\n",
       "      <td>1.0</td>\n",
       "      <td>0.0</td>\n",
       "      <td>0.0</td>\n",
       "      <td>0.0</td>\n",
       "    </tr>\n",
       "  </tbody>\n",
       "</table>\n",
       "</div>"
      ],
      "text/plain": [
       "    annual_inc    dti  int_rate  term  funded_amnt home_ownership  \\\n",
       "1     104433.0  25.37     22.45   1.0      10400.0       MORTGAGE   \n",
       "3     109000.0  26.02      7.49   0.0      25000.0       MORTGAGE   \n",
       "5     112000.0   8.68     11.99   1.0      18000.0       MORTGAGE   \n",
       "8      55000.0  25.49     19.89   0.0       8650.0           RENT   \n",
       "18    180000.0  14.67      9.17   0.0      20000.0       MORTGAGE   \n",
       "\n",
       "    loan_status  Mortgage  Rent  Own  Any  \n",
       "1           1.0       1.0   0.0  0.0  0.0  \n",
       "3           1.0       1.0   0.0  0.0  0.0  \n",
       "5           1.0       1.0   0.0  0.0  0.0  \n",
       "8           1.0       0.0   1.0  0.0  0.0  \n",
       "18          1.0       1.0   0.0  0.0  0.0  "
      ]
     },
     "execution_count": 4,
     "metadata": {},
     "output_type": "execute_result"
    }
   ],
   "source": [
    "# Turn all columns into numbers\n",
    "\n",
    "def clean_interest(x):\n",
    "    x = float((x.split(\"%\"))[0])\n",
    "    return x\n",
    "    \n",
    "working_set2.loc[:, \"int_rate\"] = [clean_interest(x) for x in working_set2.loc[:, \"int_rate\"]]\n",
    "\n",
    "\n",
    "def normalize_status(x):\n",
    "    if x == \"Charged Off\":\n",
    "        return 0.0\n",
    "    elif x == \"Default\":\n",
    "        return 0.0\n",
    "    else:\n",
    "        return 1.0\n",
    "\n",
    "working_set2.loc[:, \"loan_status\"] = [normalize_status(x) for x in working_set2.loc[:, \"loan_status\"]]\n",
    "\n",
    "\n",
    "# convert owernship column into dummy variables\n",
    "\n",
    "working_set2.loc[:,\"Mortgage\"] = [1.0 if x == \"MORTGAGE\" else 0.0 for x in working_set2.loc[:, \"home_ownership\"]]\n",
    "\n",
    "working_set2.loc[:, \"Rent\"] = [1.0 if x ==\"RENT\" else 0.0 for x in working_set2.loc[:, \"home_ownership\"]]\n",
    "\n",
    "working_set2.loc[:, \"Own\"] = [1.0 if x == \"OWN\" else 0.0 for x in working_set2.loc[:, \"home_ownership\"]]\n",
    "\n",
    "working_set2.loc[:, \"Any\"] = [1.0 if x== \"ANY\" else 0.0 for x in working_set2.loc[:, \"home_ownership\"]]\n",
    "\n",
    "\n",
    "#Turn term from object into float\n",
    "\n",
    "def clean_term(x):\n",
    "    y = x[1:3]\n",
    "    if y == \"60\":\n",
    "        return 1.0\n",
    "    else:\n",
    "        return 0.0\n",
    "   \n",
    "    \n",
    "working_set2.loc[:, \"term\"] = [clean_term(x) for x in working_set2[\"term\"]]\n",
    "\n",
    "\n",
    "#show first 5 rows of our aggregated data\n",
    "working_set2.head()"
   ]
  },
  {
   "cell_type": "code",
   "execution_count": 5,
   "metadata": {
    "collapsed": false
   },
   "outputs": [
    {
     "name": "stdout",
     "output_type": "stream",
     "text": [
      "<class 'pandas.core.frame.DataFrame'>\n",
      "Int64Index: 101152 entries, 1 to 421093\n",
      "Data columns (total 11 columns):\n",
      "annual_inc        101152 non-null float64\n",
      "dti               101152 non-null float64\n",
      "int_rate          101152 non-null float64\n",
      "term              101152 non-null float64\n",
      "funded_amnt       101152 non-null float64\n",
      "home_ownership    101152 non-null object\n",
      "loan_status       101152 non-null float64\n",
      "Mortgage          101152 non-null float64\n",
      "Rent              101152 non-null float64\n",
      "Own               101152 non-null float64\n",
      "Any               101152 non-null float64\n",
      "dtypes: float64(10), object(1)\n",
      "memory usage: 9.3+ MB\n"
     ]
    }
   ],
   "source": [
    "#describes data type information\n",
    "working_set2.info()"
   ]
  },
  {
   "cell_type": "code",
   "execution_count": 6,
   "metadata": {
    "collapsed": false
   },
   "outputs": [],
   "source": [
    "# NORMALIZE COLUMNS\n",
    "\n",
    "#normalize interest rates between 1 and 0\n",
    "\n",
    "minim_I = working_set2[\"int_rate\"].min()\n",
    "maxim_I = working_set2[\"int_rate\"].max()\n",
    "\n",
    "def normalizeI(x):\n",
    "    return (x-minim_I)/(maxim_I - minim_I)\n",
    "working_set2.loc[:, \"int_rate\"] = working_set2[\"int_rate\"].apply(normalizeI)\n",
    "\n",
    "\n",
    "\n",
    "# normalize DTI\n",
    "\n",
    "minim_D = working_set2[\"dti\"].min()\n",
    "maxim_D = working_set2[\"dti\"].max()\n",
    "\n",
    "def normalizeD(x):\n",
    "    return (x-minim_D)/(maxim_D - minim_D)\n",
    "\n",
    "working_set2.loc[:, \"dti\"] = working_set2[\"dti\"].apply(normalizeD)\n",
    "\n",
    "\n",
    "\n",
    "#normalize funded amount\n",
    "\n",
    "minim_F = working_set2[\"funded_amnt\"].min()\n",
    "maxim_F = working_set2[\"funded_amnt\"].max()\n",
    "\n",
    "def normalizeF(x):\n",
    "    return (x-minim_F)/(maxim_F - minim_F)\n",
    "working_set2.loc[:, \"funded_amnt\"] = working_set2[\"funded_amnt\"].apply(normalizeF)\n",
    "\n",
    "\n",
    "# Normalize annual income\n",
    "\n",
    "minim_A = working_set2[\"annual_inc\"].min()\n",
    "maxim_A = working_set2[\"annual_inc\"].max()\n",
    "\n",
    "def normalizeA(x):\n",
    "    return (x-minim_A)/(maxim_A - minim_A)\n",
    "\n",
    "working_set2.loc[:, \"annual_inc\"] = working_set2[\"annual_inc\"].apply(normalizeA)\n"
   ]
  },
  {
   "cell_type": "code",
   "execution_count": 7,
   "metadata": {
    "collapsed": false
   },
   "outputs": [],
   "source": [
    "#TOTALLY CLEANED PANDAS DF\n",
    "#all the columns, minus home_owernship column with strings\n",
    "clean_set = working_set2.loc[:, [\"annual_inc\", \"dti\", \"int_rate\", \"term\", \"funded_amnt\", \"Mortgage\", \"Rent\",\"Own\", \"Any\", \"loan_status\"]]\n"
   ]
  },
  {
   "cell_type": "code",
   "execution_count": 8,
   "metadata": {
    "collapsed": false
   },
   "outputs": [
    {
     "data": {
      "text/html": [
       "<div>\n",
       "<table border=\"1\" class=\"dataframe\">\n",
       "  <thead>\n",
       "    <tr style=\"text-align: right;\">\n",
       "      <th></th>\n",
       "      <th>annual_inc</th>\n",
       "      <th>dti</th>\n",
       "      <th>int_rate</th>\n",
       "      <th>term</th>\n",
       "      <th>funded_amnt</th>\n",
       "      <th>Mortgage</th>\n",
       "      <th>Rent</th>\n",
       "      <th>Own</th>\n",
       "      <th>Any</th>\n",
       "      <th>loan_status</th>\n",
       "    </tr>\n",
       "  </thead>\n",
       "  <tbody>\n",
       "    <tr>\n",
       "      <th>208293</th>\n",
       "      <td>0.005393</td>\n",
       "      <td>0.001733</td>\n",
       "      <td>0.338403</td>\n",
       "      <td>1.0</td>\n",
       "      <td>0.264706</td>\n",
       "      <td>0.0</td>\n",
       "      <td>1.0</td>\n",
       "      <td>0.0</td>\n",
       "      <td>0.0</td>\n",
       "      <td>0.0</td>\n",
       "    </tr>\n",
       "    <tr>\n",
       "      <th>306315</th>\n",
       "      <td>0.004719</td>\n",
       "      <td>0.002583</td>\n",
       "      <td>0.599916</td>\n",
       "      <td>0.0</td>\n",
       "      <td>0.338971</td>\n",
       "      <td>1.0</td>\n",
       "      <td>0.0</td>\n",
       "      <td>0.0</td>\n",
       "      <td>0.0</td>\n",
       "      <td>0.0</td>\n",
       "    </tr>\n",
       "    <tr>\n",
       "      <th>207308</th>\n",
       "      <td>0.005056</td>\n",
       "      <td>0.003277</td>\n",
       "      <td>0.366286</td>\n",
       "      <td>1.0</td>\n",
       "      <td>0.352941</td>\n",
       "      <td>0.0</td>\n",
       "      <td>1.0</td>\n",
       "      <td>0.0</td>\n",
       "      <td>0.0</td>\n",
       "      <td>0.0</td>\n",
       "    </tr>\n",
       "    <tr>\n",
       "      <th>151682</th>\n",
       "      <td>0.004494</td>\n",
       "      <td>0.002955</td>\n",
       "      <td>0.493029</td>\n",
       "      <td>0.0</td>\n",
       "      <td>0.041176</td>\n",
       "      <td>0.0</td>\n",
       "      <td>1.0</td>\n",
       "      <td>0.0</td>\n",
       "      <td>0.0</td>\n",
       "      <td>0.0</td>\n",
       "    </tr>\n",
       "    <tr>\n",
       "      <th>352491</th>\n",
       "      <td>0.011685</td>\n",
       "      <td>0.001303</td>\n",
       "      <td>0.108576</td>\n",
       "      <td>0.0</td>\n",
       "      <td>0.191912</td>\n",
       "      <td>1.0</td>\n",
       "      <td>0.0</td>\n",
       "      <td>0.0</td>\n",
       "      <td>0.0</td>\n",
       "      <td>0.0</td>\n",
       "    </tr>\n",
       "  </tbody>\n",
       "</table>\n",
       "</div>"
      ],
      "text/plain": [
       "        annual_inc       dti  int_rate  term  funded_amnt  Mortgage  Rent  \\\n",
       "208293    0.005393  0.001733  0.338403   1.0     0.264706       0.0   1.0   \n",
       "306315    0.004719  0.002583  0.599916   0.0     0.338971       1.0   0.0   \n",
       "207308    0.005056  0.003277  0.366286   1.0     0.352941       0.0   1.0   \n",
       "151682    0.004494  0.002955  0.493029   0.0     0.041176       0.0   1.0   \n",
       "352491    0.011685  0.001303  0.108576   0.0     0.191912       1.0   0.0   \n",
       "\n",
       "        Own  Any  loan_status  \n",
       "208293  0.0  0.0          0.0  \n",
       "306315  0.0  0.0          0.0  \n",
       "207308  0.0  0.0          0.0  \n",
       "151682  0.0  0.0          0.0  \n",
       "352491  0.0  0.0          0.0  "
      ]
     },
     "execution_count": 8,
     "metadata": {},
     "output_type": "execute_result"
    }
   ],
   "source": [
    "#sampling 6k of good loans and bad loans. \n",
    "#the dataset is unbalanced and is affecting parameters.\n",
    "\n",
    "good_loan = clean_set[clean_set.loan_status == 1]\n",
    "bad_loan = clean_set[clean_set.loan_status == 0]\n",
    "\n",
    "good_df = good_loan.sample(n=3000)\n",
    "bad_df= bad_loan.sample(n=3000)\n",
    "\n",
    "data2 = pd.concat([good_df, bad_df])\n",
    "data2.tail()\n"
   ]
  },
  {
   "cell_type": "code",
   "execution_count": 9,
   "metadata": {
    "collapsed": false
   },
   "outputs": [],
   "source": [
    "# PANDAS DF --> Numpy array\n",
    "\n",
    "data1 = np.array(data2)"
   ]
  },
  {
   "cell_type": "markdown",
   "metadata": {
    "collapsed": false
   },
   "source": [
    "## Bayes "
   ]
  },
  {
   "cell_type": "code",
   "execution_count": 10,
   "metadata": {
    "collapsed": false
   },
   "outputs": [],
   "source": [
    "sig = lambda x: 1./(1+np.exp(-x))\n",
    "\n",
    "def lnpred(data, a):\n",
    "    atom = a[0] + a[1] * data[0] + a[2] * data[1] + a[3] * data[2] + a[4]*data[3] + a[5]*data[4] + a[6]*data[5] +a[7] * data[6] + a[8] * data[7] + a[9]*data[8] \n",
    "    if data[9] == 1: \n",
    "        return np.log(sig(atom))\n",
    "    else:\n",
    "        return np.log(1 - (sig(atom)))\n",
    "    \n",
    "def lnprob(a, data):\n",
    "    prior = np.sum([e**2 for e in a])\n",
    "    return -0.5 * prior + np.sum([lnpred(e,a) for e in data])\n"
   ]
  },
  {
   "cell_type": "code",
   "execution_count": 11,
   "metadata": {
    "collapsed": false
   },
   "outputs": [],
   "source": [
    "import numpy as np\n",
    "import emcee\n",
    "import corner\n",
    "import matplotlib.pyplot as plt\n",
    "%matplotlib inline\n",
    "\n",
    "\n",
    "class Bayes:\n",
    "    def __init__(self, lnprob, data, nwalkers, ndim, nsteps):\n",
    "        self.lnprob = lnprob\n",
    "        self.data = data\n",
    "        self.nwalkers = nwalkers\n",
    "        self.ndim = ndim\n",
    "        self.nsteps = nsteps\n",
    "        self.N = len(data)\n",
    "        \n",
    "        sampler = emcee.EnsembleSampler(self.nwalkers, self.ndim, self.lnprob)\n",
    "        p0 = np.random.rand(self.nwalkers * self.ndim).reshape((self.nwalkers , self.ndim))\n",
    "        pos, prob, state = sampler.run_mcmc(p0, 1000)\n",
    "        sampler.reset()\n",
    "        pos, prob, state = sampler.run_mcmc(pos, self.nsteps)\n",
    "        self.samples = sampler.flatchain\n",
    "        global samples2\n",
    "        samples2 = self.samples\n",
    "        \n",
    "    def MonteCarlo(self, f, samples):\n",
    "        N = len(self.samples)\n",
    "        return 1/float(N)*sum([f(e) for e in self.samples])\n",
    "        \n",
    "    def reg(self):\n",
    "        #calling the MonteCarlo method for each column in my samples, \n",
    "        global omega0, omega1, omega2, omega3,omega4, omega5, omega6, omega7, omega8, omega9\n",
    "        omega0 = self.MonteCarlo(lambda x: x[0], self.samples)\n",
    "        omega1 = self.MonteCarlo(lambda x: x[1], self.samples)\n",
    "        omega2 = self.MonteCarlo(lambda x: x[2], self.samples)\n",
    "        omega3 = self.MonteCarlo(lambda x: x[3], self.samples)\n",
    "        omega4 = self.MonteCarlo(lambda x: x[4], self.samples)\n",
    "        omega5 = self.MonteCarlo(lambda x: x[5], self.samples)\n",
    "        omega6 = self.MonteCarlo(lambda x: x[6], self.samples)\n",
    "        omega7 = self.MonteCarlo(lambda x: x[7], self.samples)\n",
    "        omega8 = self.MonteCarlo(lambda x: x[8], self.samples)\n",
    "        omega9 = self.MonteCarlo(lambda x: x[8], self.samples)\n",
    "        \n",
    "        print ('omega0 = {0}, omega1 = {1},omega2 = {2},omega3 = {3}, omega4 = {4}'\\\n",
    "               'omega5 = {5}, omega6 = {6},omega7 = {7},omega8 = {8},omega9 = {9}'\\\n",
    "               .format(omega0, omega1, omega2, omega3,omega4, omega5, omega6, omega7, omega8, omega9))\n",
    "        \n"
   ]
  },
  {
   "cell_type": "code",
   "execution_count": 12,
   "metadata": {
    "collapsed": false
   },
   "outputs": [],
   "source": [
    "ellen = Bayes(lambda a: lnprob(a,data1), data1, 26,10,1000)"
   ]
  },
  {
   "cell_type": "code",
   "execution_count": 13,
   "metadata": {
    "collapsed": false
   },
   "outputs": [
    {
     "name": "stdout",
     "output_type": "stream",
     "text": [
      "omega0 = 1.05989008917, omega1 = 0.135981978518,omega2 = -0.235113842087,omega3 = -3.37674250055, omega4 = -0.234196073689omega5 = -0.0136364675112, omega6 = 0.524788702911,omega7 = 0.0307544045628,omega8 = 0.354092310583,omega9 = 0.354092310583\n"
     ]
    }
   ],
   "source": [
    "ellen.reg()\n"
   ]
  },
  {
   "cell_type": "code",
   "execution_count": 14,
   "metadata": {
    "collapsed": false
   },
   "outputs": [
    {
     "name": "stdout",
     "output_type": "stream",
     "text": [
      "[1.0598900891667695, 0.1359819785184323, -0.23511384208698494, -3.3767425005518237, -0.23419607368944345, -0.013636467511155445, 0.52478870291067259, 0.030754404562830063, 0.35409231058287327, 0.35409231058287327]\n"
     ]
    }
   ],
   "source": [
    "omegas = [omega0, omega1, omega2, omega3,omega4, omega5, omega6, omega7, omega8, omega9]\n",
    "print omegas"
   ]
  },
  {
   "cell_type": "code",
   "execution_count": 22,
   "metadata": {
    "collapsed": false
   },
   "outputs": [],
   "source": [
    "sig = lambda x: 1./(1+np.exp(-x))"
   ]
  },
  {
   "cell_type": "markdown",
   "metadata": {},
   "source": [
    "## OUR TEST SAMPLES\n"
   ]
  },
  {
   "cell_type": "code",
   "execution_count": 23,
   "metadata": {
    "collapsed": false
   },
   "outputs": [],
   "source": [
    "# Test 1\n",
    "#predict_prob(104433.0, 25.37, 22.45, 1, 104000, 1,0,0,0)"
   ]
  },
  {
   "cell_type": "code",
   "execution_count": 24,
   "metadata": {
    "collapsed": false
   },
   "outputs": [],
   "source": [
    "# Test 2\n",
    "#predict_prob(64400.0, 27.19, 1.99, 1, 12000, 0,1,0,0)"
   ]
  },
  {
   "cell_type": "code",
   "execution_count": 64,
   "metadata": {
    "collapsed": false
   },
   "outputs": [],
   "source": [
    "def predict_prob(a,data):\n",
    "    atom = a[0] + a[1] * data[0] + a[2] * data[1] + a[3] * data[2] + a[4]*data[3] + \\\n",
    "    a[5]*data[4] + a[6]*data[5] +a[7] * data[6] + a[8] * data[7] + a[9]*data[8] \n",
    "    return sig(atom)\n",
    "\n"
   ]
  },
  {
   "cell_type": "code",
   "execution_count": 65,
   "metadata": {
    "collapsed": false
   },
   "outputs": [],
   "source": [
    "N = len(samples2)\n",
    "MonteCarlo =  lambda f,e:  1/float(N)*sum([f(e) for e in samples2])\n",
    "predict = lambda d: MonteCarlo(lambda a: predict_prob(a,d),samples2)"
   ]
  },
  {
   "cell_type": "code",
   "execution_count": 66,
   "metadata": {
    "collapsed": false
   },
   "outputs": [
    {
     "data": {
      "text/plain": [
       "0.8244040609129909"
      ]
     },
     "execution_count": 66,
     "metadata": {},
     "output_type": "execute_result"
    }
   ],
   "source": [
    "# GOOD LOAN\n",
    "\n",
    "row1= [0.01,0.001179,0.01,0.0,0.294118,1.0,0,0,0]\n",
    "\n",
    "\n",
    "predict(row1)\n"
   ]
  },
  {
   "cell_type": "code",
   "execution_count": 67,
   "metadata": {
    "collapsed": false
   },
   "outputs": [
    {
     "data": {
      "text/plain": [
       "0.53284011078192728"
      ]
     },
     "execution_count": 67,
     "metadata": {},
     "output_type": "execute_result"
    }
   ],
   "source": [
    "# BAD LOAN\n",
    "row2= [0.004831,0.002506,0.281791,0.0,0.551471,0.0,1.0,0.0,0.0,0.0]\n",
    "predict(row2)\n"
   ]
  },
  {
   "cell_type": "code",
   "execution_count": 68,
   "metadata": {
    "collapsed": true
   },
   "outputs": [],
   "source": [
    "#my blog is having issues. i'm sorry-!"
   ]
  },
  {
   "cell_type": "markdown",
   "metadata": {
    "collapsed": true
   },
   "source": [
    "## Blog: Project 5: Loan Classification\n",
    "\n",
    "Objective: Create a model to predict loan status using data from Lending Club.\n",
    "\n",
    "Data Manipulation: Clean and re-engineer categories of data. Data was also normalized so that its prepped for regression analysis.\n",
    "\n",
    "Data Exploration: Before going into the data modeling, exploratory data analysis was performed. General exploration suggested that home ownership status (mortgage, rent, own, other) seemed to be a big indication of whether someone paid or not. Also, the distribution of good to bad loans were extremely unbalanced. After I had cleaned my dataset there were almost 3 times more good loans than bad loans (76,833 – good, 24319- bad). To even give my model more exposure and information around bad loans, I created a random sample of 3,000 data samples from each category (good and bad loans).  \n",
    "\n",
    "\n",
    "Regression: Ran a regression on my model, predicted omegas using Emcee Sampler and walkers.\n",
    "\n",
    "Test Sample: Once I found omegas, I created a predictive function where I could input attributes as a hypothetical test case. \n",
    "\n",
    "\n",
    "\n"
   ]
  },
  {
   "cell_type": "code",
   "execution_count": null,
   "metadata": {
    "collapsed": true
   },
   "outputs": [],
   "source": []
  },
  {
   "cell_type": "code",
   "execution_count": null,
   "metadata": {
    "collapsed": true
   },
   "outputs": [],
   "source": []
  }
 ],
 "metadata": {
  "anaconda-cloud": {},
  "kernelspec": {
   "display_name": "Python [conda root]",
   "language": "python",
   "name": "conda-root-py"
  },
  "language_info": {
   "codemirror_mode": {
    "name": "ipython",
    "version": 2
   },
   "file_extension": ".py",
   "mimetype": "text/x-python",
   "name": "python",
   "nbconvert_exporter": "python",
   "pygments_lexer": "ipython2",
   "version": "2.7.12"
  }
 },
 "nbformat": 4,
 "nbformat_minor": 1
}
